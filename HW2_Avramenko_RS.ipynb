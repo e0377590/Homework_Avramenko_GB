{
 "cells": [
  {
   "cell_type": "code",
   "execution_count": 3,
   "id": "0dcde95d",
   "metadata": {},
   "outputs": [],
   "source": [
    "import pandas as pd\n",
    "import numpy as np\n",
    "import matplotlib.pyplot as plt\n",
    "%matplotlib inline\n",
    "\n",
    "# Для работы с матрицами\n",
    "from scipy.sparse import csr_matrix, coo_matrix\n",
    "\n",
    "# Детерминированные алгоритмы\n",
    "from implicit.nearest_neighbours import ItemItemRecommender, CosineRecommender, TFIDFRecommender, BM25Recommender\n",
    "\n",
    "# Метрики\n",
    "from implicit.evaluation import train_test_split\n",
    "from implicit.evaluation import precision_at_k, mean_average_precision_at_k, AUC_at_k, ndcg_at_k"
   ]
  },
  {
   "cell_type": "code",
   "execution_count": 4,
   "id": "1d4f6169",
   "metadata": {},
   "outputs": [
    {
     "data": {
      "text/html": [
       "<div>\n",
       "<style scoped>\n",
       "    .dataframe tbody tr th:only-of-type {\n",
       "        vertical-align: middle;\n",
       "    }\n",
       "\n",
       "    .dataframe tbody tr th {\n",
       "        vertical-align: top;\n",
       "    }\n",
       "\n",
       "    .dataframe thead th {\n",
       "        text-align: right;\n",
       "    }\n",
       "</style>\n",
       "<table border=\"1\" class=\"dataframe\">\n",
       "  <thead>\n",
       "    <tr style=\"text-align: right;\">\n",
       "      <th></th>\n",
       "      <th>user_id</th>\n",
       "      <th>basket_id</th>\n",
       "      <th>day</th>\n",
       "      <th>item_id</th>\n",
       "      <th>quantity</th>\n",
       "      <th>sales_value</th>\n",
       "      <th>store_id</th>\n",
       "      <th>retail_disc</th>\n",
       "      <th>trans_time</th>\n",
       "      <th>week_no</th>\n",
       "      <th>coupon_disc</th>\n",
       "      <th>coupon_match_disc</th>\n",
       "    </tr>\n",
       "  </thead>\n",
       "  <tbody>\n",
       "    <tr>\n",
       "      <th>0</th>\n",
       "      <td>2375</td>\n",
       "      <td>26984851472</td>\n",
       "      <td>1</td>\n",
       "      <td>1004906</td>\n",
       "      <td>1</td>\n",
       "      <td>1.39</td>\n",
       "      <td>364</td>\n",
       "      <td>-0.6</td>\n",
       "      <td>1631</td>\n",
       "      <td>1</td>\n",
       "      <td>0.0</td>\n",
       "      <td>0.0</td>\n",
       "    </tr>\n",
       "    <tr>\n",
       "      <th>1</th>\n",
       "      <td>2375</td>\n",
       "      <td>26984851472</td>\n",
       "      <td>1</td>\n",
       "      <td>1033142</td>\n",
       "      <td>1</td>\n",
       "      <td>0.82</td>\n",
       "      <td>364</td>\n",
       "      <td>0.0</td>\n",
       "      <td>1631</td>\n",
       "      <td>1</td>\n",
       "      <td>0.0</td>\n",
       "      <td>0.0</td>\n",
       "    </tr>\n",
       "  </tbody>\n",
       "</table>\n",
       "</div>"
      ],
      "text/plain": [
       "   user_id    basket_id  day  item_id  quantity  sales_value  store_id  \\\n",
       "0     2375  26984851472    1  1004906         1         1.39       364   \n",
       "1     2375  26984851472    1  1033142         1         0.82       364   \n",
       "\n",
       "   retail_disc  trans_time  week_no  coupon_disc  coupon_match_disc  \n",
       "0         -0.6        1631        1          0.0                0.0  \n",
       "1          0.0        1631        1          0.0                0.0  "
      ]
     },
     "execution_count": 4,
     "metadata": {},
     "output_type": "execute_result"
    }
   ],
   "source": [
    "data = pd.read_csv('D:/КУРСЫ/GeekBrains/Рекомендательные системы/webinar_2/retail_train.csv')\n",
    "data.head(2)"
   ]
  },
  {
   "cell_type": "code",
   "execution_count": 5,
   "id": "e5d40d75",
   "metadata": {},
   "outputs": [
    {
     "name": "stdout",
     "output_type": "stream",
     "text": [
      "# users:  2499\n",
      "# items:  89051\n",
      "# interactions:  2396804\n"
     ]
    }
   ],
   "source": [
    "users, items, interactions = data.user_id.nunique(), data.item_id.nunique(), data.shape[0]\n",
    "\n",
    "print('# users: ', users)\n",
    "print('# items: ', items)\n",
    "print('# interactions: ', interactions)"
   ]
  },
  {
   "cell_type": "code",
   "execution_count": 6,
   "id": "c8cb20dd",
   "metadata": {},
   "outputs": [
    {
     "data": {
      "text/html": [
       "<div>\n",
       "<style scoped>\n",
       "    .dataframe tbody tr th:only-of-type {\n",
       "        vertical-align: middle;\n",
       "    }\n",
       "\n",
       "    .dataframe tbody tr th {\n",
       "        vertical-align: top;\n",
       "    }\n",
       "\n",
       "    .dataframe thead th {\n",
       "        text-align: right;\n",
       "    }\n",
       "</style>\n",
       "<table border=\"1\" class=\"dataframe\">\n",
       "  <thead>\n",
       "    <tr style=\"text-align: right;\">\n",
       "      <th></th>\n",
       "      <th>item_id</th>\n",
       "      <th>sales_value</th>\n",
       "    </tr>\n",
       "  </thead>\n",
       "  <tbody>\n",
       "    <tr>\n",
       "      <th>count</th>\n",
       "      <td>8.905100e+04</td>\n",
       "      <td>89051.000000</td>\n",
       "    </tr>\n",
       "    <tr>\n",
       "      <th>mean</th>\n",
       "      <td>5.115772e+06</td>\n",
       "      <td>83.458481</td>\n",
       "    </tr>\n",
       "    <tr>\n",
       "      <th>std</th>\n",
       "      <td>5.178973e+06</td>\n",
       "      <td>1628.715079</td>\n",
       "    </tr>\n",
       "    <tr>\n",
       "      <th>min</th>\n",
       "      <td>2.567100e+04</td>\n",
       "      <td>0.000000</td>\n",
       "    </tr>\n",
       "    <tr>\n",
       "      <th>25%</th>\n",
       "      <td>9.665830e+05</td>\n",
       "      <td>3.500000</td>\n",
       "    </tr>\n",
       "    <tr>\n",
       "      <th>50%</th>\n",
       "      <td>1.448516e+06</td>\n",
       "      <td>10.780000</td>\n",
       "    </tr>\n",
       "    <tr>\n",
       "      <th>75%</th>\n",
       "      <td>9.553042e+06</td>\n",
       "      <td>46.105000</td>\n",
       "    </tr>\n",
       "    <tr>\n",
       "      <th>max</th>\n",
       "      <td>1.802456e+07</td>\n",
       "      <td>467993.620000</td>\n",
       "    </tr>\n",
       "  </tbody>\n",
       "</table>\n",
       "</div>"
      ],
      "text/plain": [
       "            item_id    sales_value\n",
       "count  8.905100e+04   89051.000000\n",
       "mean   5.115772e+06      83.458481\n",
       "std    5.178973e+06    1628.715079\n",
       "min    2.567100e+04       0.000000\n",
       "25%    9.665830e+05       3.500000\n",
       "50%    1.448516e+06      10.780000\n",
       "75%    9.553042e+06      46.105000\n",
       "max    1.802456e+07  467993.620000"
      ]
     },
     "execution_count": 6,
     "metadata": {},
     "output_type": "execute_result"
    }
   ],
   "source": [
    "popularity = data.groupby('item_id')['sales_value'].sum().reset_index()\n",
    "popularity.describe()"
   ]
  },
  {
   "cell_type": "code",
   "execution_count": 7,
   "id": "cc94bdad",
   "metadata": {},
   "outputs": [],
   "source": [
    "test_size_weeks = 3\n",
    "\n",
    "data_train = data[data['week_no'] < data['week_no'].max() - test_size_weeks]\n",
    "data_test = data[data['week_no'] >= data['week_no'].max() - test_size_weeks]"
   ]
  },
  {
   "cell_type": "code",
   "execution_count": 8,
   "id": "93a83aff",
   "metadata": {},
   "outputs": [
    {
     "data": {
      "text/plain": [
       "(2278490, 118314)"
      ]
     },
     "execution_count": 8,
     "metadata": {},
     "output_type": "execute_result"
    }
   ],
   "source": [
    "data_train.shape[0], data_test.shape[0]"
   ]
  },
  {
   "cell_type": "code",
   "execution_count": 9,
   "id": "87876790",
   "metadata": {},
   "outputs": [
    {
     "data": {
      "text/html": [
       "<div>\n",
       "<style scoped>\n",
       "    .dataframe tbody tr th:only-of-type {\n",
       "        vertical-align: middle;\n",
       "    }\n",
       "\n",
       "    .dataframe tbody tr th {\n",
       "        vertical-align: top;\n",
       "    }\n",
       "\n",
       "    .dataframe thead th {\n",
       "        text-align: right;\n",
       "    }\n",
       "</style>\n",
       "<table border=\"1\" class=\"dataframe\">\n",
       "  <thead>\n",
       "    <tr style=\"text-align: right;\">\n",
       "      <th></th>\n",
       "      <th>user_id</th>\n",
       "      <th>actual</th>\n",
       "    </tr>\n",
       "  </thead>\n",
       "  <tbody>\n",
       "    <tr>\n",
       "      <th>0</th>\n",
       "      <td>1</td>\n",
       "      <td>[821867, 834484, 856942, 865456, 889248, 90795...</td>\n",
       "    </tr>\n",
       "    <tr>\n",
       "      <th>1</th>\n",
       "      <td>3</td>\n",
       "      <td>[835476, 851057, 872021, 878302, 879948, 90963...</td>\n",
       "    </tr>\n",
       "  </tbody>\n",
       "</table>\n",
       "</div>"
      ],
      "text/plain": [
       "   user_id                                             actual\n",
       "0        1  [821867, 834484, 856942, 865456, 889248, 90795...\n",
       "1        3  [835476, 851057, 872021, 878302, 879948, 90963..."
      ]
     },
     "execution_count": 9,
     "metadata": {},
     "output_type": "execute_result"
    }
   ],
   "source": [
    "result = data_test.groupby('user_id')['item_id'].unique().reset_index()\n",
    "result.columns=['user_id', 'actual']\n",
    "result.head(2)"
   ]
  },
  {
   "cell_type": "code",
   "execution_count": 10,
   "id": "81811186",
   "metadata": {},
   "outputs": [
    {
     "name": "stdout",
     "output_type": "stream",
     "text": [
      "В тестовом дата сете 2042 юзеров\n",
      "В тестовом дата сете 0 новых юзеров\n"
     ]
    }
   ],
   "source": [
    "test_users = result.shape[0]\n",
    "new_test_users = len(set(data_test['user_id']) - set(data_train['user_id']))\n",
    "\n",
    "print('В тестовом дата сете {} юзеров'.format(test_users))\n",
    "print('В тестовом дата сете {} новых юзеров'.format(new_test_users))"
   ]
  },
  {
   "cell_type": "markdown",
   "id": "0047c303",
   "metadata": {},
   "source": [
    "### 1.1 Random recommendation"
   ]
  },
  {
   "cell_type": "code",
   "execution_count": 47,
   "id": "d2ddeaf4",
   "metadata": {},
   "outputs": [],
   "source": []
  },
  {
   "cell_type": "code",
   "execution_count": 48,
   "id": "23287f7b",
   "metadata": {},
   "outputs": [
    {
     "data": {
      "text/html": [
       "<div>\n",
       "<style scoped>\n",
       "    .dataframe tbody tr th:only-of-type {\n",
       "        vertical-align: middle;\n",
       "    }\n",
       "\n",
       "    .dataframe tbody tr th {\n",
       "        vertical-align: top;\n",
       "    }\n",
       "\n",
       "    .dataframe thead th {\n",
       "        text-align: right;\n",
       "    }\n",
       "</style>\n",
       "<table border=\"1\" class=\"dataframe\">\n",
       "  <thead>\n",
       "    <tr style=\"text-align: right;\">\n",
       "      <th></th>\n",
       "      <th>item_id</th>\n",
       "      <th>sales_value</th>\n",
       "    </tr>\n",
       "  </thead>\n",
       "  <tbody>\n",
       "    <tr>\n",
       "      <th>0</th>\n",
       "      <td>25671</td>\n",
       "      <td>20.94</td>\n",
       "    </tr>\n",
       "    <tr>\n",
       "      <th>1</th>\n",
       "      <td>26081</td>\n",
       "      <td>0.99</td>\n",
       "    </tr>\n",
       "    <tr>\n",
       "      <th>2</th>\n",
       "      <td>26093</td>\n",
       "      <td>1.59</td>\n",
       "    </tr>\n",
       "    <tr>\n",
       "      <th>3</th>\n",
       "      <td>26190</td>\n",
       "      <td>1.54</td>\n",
       "    </tr>\n",
       "    <tr>\n",
       "      <th>4</th>\n",
       "      <td>26355</td>\n",
       "      <td>1.98</td>\n",
       "    </tr>\n",
       "    <tr>\n",
       "      <th>...</th>\n",
       "      <td>...</td>\n",
       "      <td>...</td>\n",
       "    </tr>\n",
       "    <tr>\n",
       "      <th>89046</th>\n",
       "      <td>17991689</td>\n",
       "      <td>2.49</td>\n",
       "    </tr>\n",
       "    <tr>\n",
       "      <th>89047</th>\n",
       "      <td>17991691</td>\n",
       "      <td>2.49</td>\n",
       "    </tr>\n",
       "    <tr>\n",
       "      <th>89048</th>\n",
       "      <td>18000012</td>\n",
       "      <td>19.96</td>\n",
       "    </tr>\n",
       "    <tr>\n",
       "      <th>89049</th>\n",
       "      <td>18024155</td>\n",
       "      <td>3.99</td>\n",
       "    </tr>\n",
       "    <tr>\n",
       "      <th>89050</th>\n",
       "      <td>18024556</td>\n",
       "      <td>30.51</td>\n",
       "    </tr>\n",
       "  </tbody>\n",
       "</table>\n",
       "<p>89051 rows × 2 columns</p>\n",
       "</div>"
      ],
      "text/plain": [
       "        item_id  sales_value\n",
       "0         25671        20.94\n",
       "1         26081         0.99\n",
       "2         26093         1.59\n",
       "3         26190         1.54\n",
       "4         26355         1.98\n",
       "...         ...          ...\n",
       "89046  17991689         2.49\n",
       "89047  17991691         2.49\n",
       "89048  18000012        19.96\n",
       "89049  18024155         3.99\n",
       "89050  18024556        30.51\n",
       "\n",
       "[89051 rows x 2 columns]"
      ]
     },
     "execution_count": 48,
     "metadata": {},
     "output_type": "execute_result"
    }
   ],
   "source": [
    "popular = data.groupby('item_id')['sales_value'].sum().reset_index()\n",
    "popular"
   ]
  },
  {
   "cell_type": "code",
   "execution_count": 49,
   "id": "20e9e01a",
   "metadata": {},
   "outputs": [
    {
     "data": {
      "text/html": [
       "<div>\n",
       "<style scoped>\n",
       "    .dataframe tbody tr th:only-of-type {\n",
       "        vertical-align: middle;\n",
       "    }\n",
       "\n",
       "    .dataframe tbody tr th {\n",
       "        vertical-align: top;\n",
       "    }\n",
       "\n",
       "    .dataframe thead th {\n",
       "        text-align: right;\n",
       "    }\n",
       "</style>\n",
       "<table border=\"1\" class=\"dataframe\">\n",
       "  <thead>\n",
       "    <tr style=\"text-align: right;\">\n",
       "      <th></th>\n",
       "      <th>item_id</th>\n",
       "      <th>weight</th>\n",
       "    </tr>\n",
       "  </thead>\n",
       "  <tbody>\n",
       "    <tr>\n",
       "      <th>0</th>\n",
       "      <td>25671</td>\n",
       "      <td>2.817523e-06</td>\n",
       "    </tr>\n",
       "    <tr>\n",
       "      <th>1</th>\n",
       "      <td>26081</td>\n",
       "      <td>1.332067e-07</td>\n",
       "    </tr>\n",
       "    <tr>\n",
       "      <th>2</th>\n",
       "      <td>26093</td>\n",
       "      <td>2.139380e-07</td>\n",
       "    </tr>\n",
       "    <tr>\n",
       "      <th>3</th>\n",
       "      <td>26190</td>\n",
       "      <td>2.072103e-07</td>\n",
       "    </tr>\n",
       "    <tr>\n",
       "      <th>4</th>\n",
       "      <td>26355</td>\n",
       "      <td>2.664133e-07</td>\n",
       "    </tr>\n",
       "    <tr>\n",
       "      <th>...</th>\n",
       "      <td>...</td>\n",
       "      <td>...</td>\n",
       "    </tr>\n",
       "    <tr>\n",
       "      <th>89046</th>\n",
       "      <td>17991689</td>\n",
       "      <td>3.350349e-07</td>\n",
       "    </tr>\n",
       "    <tr>\n",
       "      <th>89047</th>\n",
       "      <td>17991691</td>\n",
       "      <td>3.350349e-07</td>\n",
       "    </tr>\n",
       "    <tr>\n",
       "      <th>89048</th>\n",
       "      <td>18000012</td>\n",
       "      <td>2.685661e-06</td>\n",
       "    </tr>\n",
       "    <tr>\n",
       "      <th>89049</th>\n",
       "      <td>18024155</td>\n",
       "      <td>5.368632e-07</td>\n",
       "    </tr>\n",
       "    <tr>\n",
       "      <th>89050</th>\n",
       "      <td>18024556</td>\n",
       "      <td>4.105187e-06</td>\n",
       "    </tr>\n",
       "  </tbody>\n",
       "</table>\n",
       "<p>89051 rows × 2 columns</p>\n",
       "</div>"
      ],
      "text/plain": [
       "        item_id        weight\n",
       "0         25671  2.817523e-06\n",
       "1         26081  1.332067e-07\n",
       "2         26093  2.139380e-07\n",
       "3         26190  2.072103e-07\n",
       "4         26355  2.664133e-07\n",
       "...         ...           ...\n",
       "89046  17991689  3.350349e-07\n",
       "89047  17991691  3.350349e-07\n",
       "89048  18000012  2.685661e-06\n",
       "89049  18024155  5.368632e-07\n",
       "89050  18024556  4.105187e-06\n",
       "\n",
       "[89051 rows x 2 columns]"
      ]
     },
     "execution_count": 49,
     "metadata": {},
     "output_type": "execute_result"
    }
   ],
   "source": [
    "popular['sales_value'] = popular['sales_value'] / popular['sales_value'].sum()\n",
    "popular.rename(columns = {'sales_value':'weight'}, inplace = True )\n",
    "popular"
   ]
  },
  {
   "cell_type": "code",
   "execution_count": 51,
   "id": "8654fd13",
   "metadata": {},
   "outputs": [],
   "source": [
    "#def random_recommendation(items, n=5):\n",
    "#    \"\"\"Случайные рекоммендации\"\"\"\n",
    "    \n",
    "#    items = np.array(items['item_id'])\n",
    "#    weights = np.array(items['weight'])\n",
    "#    recs = np.random.choice(items, size=n, replace=False, p= weights)\n",
    "    \n",
    "#    return recs.tolist()"
   ]
  },
  {
   "cell_type": "code",
   "execution_count": 56,
   "id": "ef79b2db",
   "metadata": {},
   "outputs": [],
   "source": [
    "#random_recommendation(popular, 5) -- Почему то при вызове функции, программа \"падает\" на строчке weights = np.array(items['weight']),\n",
    "# а если просто код писать то всё нормально"
   ]
  },
  {
   "cell_type": "code",
   "execution_count": 57,
   "id": "b91b58f0",
   "metadata": {},
   "outputs": [],
   "source": [
    "weights = np.array(popular['weight'])\n",
    "items = np.array(popular['item_id'])"
   ]
  },
  {
   "cell_type": "code",
   "execution_count": 58,
   "id": "2eb0f018",
   "metadata": {},
   "outputs": [
    {
     "data": {
      "text/plain": [
       "[6534178, 12262778, 10204488, 1092311, 1095964]"
      ]
     },
     "execution_count": 58,
     "metadata": {},
     "output_type": "execute_result"
    }
   ],
   "source": [
    "np.random.choice(items, size=5, replace=False, p= weights).tolist()"
   ]
  },
  {
   "cell_type": "markdown",
   "id": "a42824b0",
   "metadata": {},
   "source": [
    "### Задание 2. Расчет метрик"
   ]
  },
  {
   "cell_type": "code",
   "execution_count": 4,
   "id": "44d082d9",
   "metadata": {},
   "outputs": [
    {
     "data": {
      "text/html": [
       "<div>\n",
       "<style scoped>\n",
       "    .dataframe tbody tr th:only-of-type {\n",
       "        vertical-align: middle;\n",
       "    }\n",
       "\n",
       "    .dataframe tbody tr th {\n",
       "        vertical-align: top;\n",
       "    }\n",
       "\n",
       "    .dataframe thead th {\n",
       "        text-align: right;\n",
       "    }\n",
       "</style>\n",
       "<table border=\"1\" class=\"dataframe\">\n",
       "  <thead>\n",
       "    <tr style=\"text-align: right;\">\n",
       "      <th></th>\n",
       "      <th>user_id</th>\n",
       "      <th>actual</th>\n",
       "      <th>random_recommendation</th>\n",
       "      <th>popular_recommendation</th>\n",
       "      <th>itemitem</th>\n",
       "      <th>cosine</th>\n",
       "      <th>tfidf</th>\n",
       "      <th>own_purchases</th>\n",
       "    </tr>\n",
       "  </thead>\n",
       "  <tbody>\n",
       "    <tr>\n",
       "      <th>0</th>\n",
       "      <td>1</td>\n",
       "      <td>[  821867   834484   856942   865456   889248 ...</td>\n",
       "      <td>[5586238, 1015228, 866118, 2416733, 2603573]</td>\n",
       "      <td>[6534178, 6533889, 1029743, 6534166, 1082185]</td>\n",
       "      <td>[981760, 1127831, 1098066, 826249, 878996]</td>\n",
       "      <td>[981760, 1127831, 1098066, 878996, 826249]</td>\n",
       "      <td>[981760, 1127831, 1098066, 826249, 878996]</td>\n",
       "      <td>[999999, 1082185, 1029743, 995785, 1004906]</td>\n",
       "    </tr>\n",
       "    <tr>\n",
       "      <th>1</th>\n",
       "      <td>3</td>\n",
       "      <td>[  835476   851057   872021   878302   879948 ...</td>\n",
       "      <td>[161354, 63027, 1027802, 12263694, 307395]</td>\n",
       "      <td>[6534178, 6533889, 1029743, 6534166, 1082185]</td>\n",
       "      <td>[981760, 995242, 1029743, 840361, 961554]</td>\n",
       "      <td>[981760, 1004906, 961554, 1096036, 1080414]</td>\n",
       "      <td>[981760, 1004906, 859075, 1096036, 961554]</td>\n",
       "      <td>[999999, 1082185, 1098066, 6534178, 1127831]</td>\n",
       "    </tr>\n",
       "  </tbody>\n",
       "</table>\n",
       "</div>"
      ],
      "text/plain": [
       "   user_id                                             actual  \\\n",
       "0        1  [  821867   834484   856942   865456   889248 ...   \n",
       "1        3  [  835476   851057   872021   878302   879948 ...   \n",
       "\n",
       "                          random_recommendation  \\\n",
       "0  [5586238, 1015228, 866118, 2416733, 2603573]   \n",
       "1    [161354, 63027, 1027802, 12263694, 307395]   \n",
       "\n",
       "                          popular_recommendation  \\\n",
       "0  [6534178, 6533889, 1029743, 6534166, 1082185]   \n",
       "1  [6534178, 6533889, 1029743, 6534166, 1082185]   \n",
       "\n",
       "                                     itemitem  \\\n",
       "0  [981760, 1127831, 1098066, 826249, 878996]   \n",
       "1   [981760, 995242, 1029743, 840361, 961554]   \n",
       "\n",
       "                                        cosine  \\\n",
       "0   [981760, 1127831, 1098066, 878996, 826249]   \n",
       "1  [981760, 1004906, 961554, 1096036, 1080414]   \n",
       "\n",
       "                                        tfidf  \\\n",
       "0  [981760, 1127831, 1098066, 826249, 878996]   \n",
       "1  [981760, 1004906, 859075, 1096036, 961554]   \n",
       "\n",
       "                                  own_purchases  \n",
       "0   [999999, 1082185, 1029743, 995785, 1004906]  \n",
       "1  [999999, 1082185, 1098066, 6534178, 1127831]  "
      ]
     },
     "execution_count": 4,
     "metadata": {},
     "output_type": "execute_result"
    }
   ],
   "source": [
    "result = pd.read_csv('D:/КУРСЫ/GeekBrains/Рекомендательные системы/webinar_2/predictions_basic.csv')\n",
    "result.head(2)"
   ]
  },
  {
   "cell_type": "code",
   "execution_count": 76,
   "id": "f4def180",
   "metadata": {},
   "outputs": [
    {
     "data": {
      "text/plain": [
       "user_id                   2042\n",
       "actual                    2042\n",
       "random_recommendation     2042\n",
       "popular_recommendation    2042\n",
       "itemitem                  2042\n",
       "cosine                    2042\n",
       "tfidf                     2042\n",
       "own_purchases             2042\n",
       "dtype: int64"
      ]
     },
     "execution_count": 76,
     "metadata": {},
     "output_type": "execute_result"
    }
   ],
   "source": [
    "result.count()"
   ]
  },
  {
   "cell_type": "code",
   "execution_count": 24,
   "id": "a600e16b",
   "metadata": {},
   "outputs": [],
   "source": [
    "def precision_at_k(recommended_list, bought_list, k=5):\n",
    "    \n",
    "    bought_list = np.array(bought_list)\n",
    "    recommended_list = np.array(recommended_list)\n",
    "    \n",
    "    bought_list = bought_list\n",
    "    recommended_list = recommended_list[:k]\n",
    "    \n",
    "    flags = np.isin(bought_list, recommended_list)\n",
    "    \n",
    "    precision = flags.sum() / len(recommended_list)\n",
    "    \n",
    "    \n",
    "    return precision"
   ]
  },
  {
   "cell_type": "code",
   "execution_count": 14,
   "id": "3905537a",
   "metadata": {},
   "outputs": [],
   "source": [
    "def precision(recommended_list, bought_list):\n",
    "    \n",
    "    bought_list = np.array(bought_list)\n",
    "    recommended_list = np.array(recommended_list)\n",
    "    \n",
    "    flags = np.isin(bought_list, recommended_list)\n",
    "    \n",
    "    precision = flags.sum() / len(recommended_list)\n",
    "    \n",
    "    return precision"
   ]
  },
  {
   "cell_type": "code",
   "execution_count": 13,
   "id": "ba167ac9",
   "metadata": {},
   "outputs": [
    {
     "data": {
      "text/plain": [
       "[5586238, 1015228, 866118, 2416733, 2603573]"
      ]
     },
     "execution_count": 13,
     "metadata": {},
     "output_type": "execute_result"
    }
   ],
   "source": [
    "rs = result['random_recommendation'].values[0]\n",
    "rs2 = list(map(int, rs.replace('[', '').replace(']', '').replace(' ', '').split(',')))\n",
    "rs2"
   ]
  },
  {
   "cell_type": "code",
   "execution_count": 74,
   "id": "e3706733",
   "metadata": {},
   "outputs": [
    {
     "data": {
      "text/plain": [
       "0         [5586238, 1015228, 866118, 2416733, 2603573]\n",
       "1           [161354, 63027, 1027802, 12263694, 307395]\n",
       "2         [13416054, 936084, 7410040, 9527114, 377218]\n",
       "3            [5574336, 990072, 868548, 995880, 842226]\n",
       "4           [1277401, 94446, 3133282, 1925252, 855699]\n",
       "                             ...                      \n",
       "2037       [932962, 845876, 1578206, 13159156, 175031]\n",
       "2038      [5726138, 15717067, 908287, 915356, 5558852]\n",
       "2039    [9836300, 12326063, 7414863, 1730240, 7441652]\n",
       "2040       [849152, 952122, 906965, 16124540, 1008041]\n",
       "2041        [862358, 81611, 7466803, 1102999, 9855981]\n",
       "Name: random_recommendation, Length: 2042, dtype: object"
      ]
     },
     "execution_count": 74,
     "metadata": {},
     "output_type": "execute_result"
    }
   ],
   "source": [
    "pr_ran_rec_fin = 0\n",
    "or i in range(2042):\n",
    "    pr_ran_rec = precision(result['random_recommendation'], result['own_purchases'])\n",
    "    pr_ran_rec_fin = pr_ran_rec_fin + pr_ran_rec"
   ]
  },
  {
   "cell_type": "code",
   "execution_count": 75,
   "id": "83c04372",
   "metadata": {},
   "outputs": [
    {
     "data": {
      "text/plain": [
       "0        [999999, 1082185, 1029743, 995785, 1004906]\n",
       "1       [999999, 1082185, 1098066, 6534178, 1127831]\n",
       "2       [999999, 1082185, 1029743, 6534178, 1127831]\n",
       "3        [999999, 1082185, 1029743, 1127831, 995785]\n",
       "4       [999999, 1082185, 1029743, 1098066, 6534178]\n",
       "                            ...                     \n",
       "2037     [999999, 1082185, 1098066, 6534178, 995785]\n",
       "2038    [999999, 1082185, 1029743, 1098066, 6534178]\n",
       "2039    [999999, 1082185, 1029743, 1068719, 1106523]\n",
       "2040    [999999, 1082185, 1098066, 6534178, 1004906]\n",
       "2041    [999999, 1082185, 1029743, 1098066, 6534178]\n",
       "Name: own_purchases, Length: 2042, dtype: object"
      ]
     },
     "execution_count": 75,
     "metadata": {},
     "output_type": "execute_result"
    }
   ],
   "source": [
    "result['own_purchases']"
   ]
  },
  {
   "cell_type": "code",
   "execution_count": null,
   "id": "a7f288fb",
   "metadata": {},
   "outputs": [],
   "source": []
  },
  {
   "cell_type": "code",
   "execution_count": null,
   "id": "69a2600e",
   "metadata": {},
   "outputs": [],
   "source": []
  },
  {
   "cell_type": "code",
   "execution_count": null,
   "id": "3c5b1d80",
   "metadata": {},
   "outputs": [],
   "source": []
  },
  {
   "cell_type": "markdown",
   "id": "080e64f2",
   "metadata": {},
   "source": [
    "Лучший результат у popular_recommendation: 792"
   ]
  },
  {
   "cell_type": "code",
   "execution_count": 25,
   "id": "a067a783",
   "metadata": {},
   "outputs": [
    {
     "data": {
      "text/plain": [
       "792.000000000002"
      ]
     },
     "execution_count": 25,
     "metadata": {},
     "output_type": "execute_result"
    }
   ],
   "source": [
    "pr_fin = 0\n",
    "for i in range(2042):\n",
    "    rs = result['popular_recommendation'].values[i]\n",
    "    recommended_list = list(map(int, rs.replace('[', '').replace(']', '').replace(' ', '').split(',')))\n",
    "    rs = result['own_purchases'].values[i]\n",
    "    bought_list = list(map(int, rs.replace('[', '').replace(']', '').replace(' ', '').split(',')))\n",
    "    pr_fin = pr_fin + precision_at_k(recommended_list, bought_list, k=5)\n",
    "pr_fin"
   ]
  },
  {
   "cell_type": "code",
   "execution_count": 20,
   "id": "a220be31",
   "metadata": {},
   "outputs": [
    {
     "data": {
      "text/plain": [
       "0.4"
      ]
     },
     "execution_count": 20,
     "metadata": {},
     "output_type": "execute_result"
    }
   ],
   "source": [
    "pr_fin = 0\n",
    "for i in range(2042):\n",
    "    rs = result['random_recommendation'].values[i]\n",
    "    recommended_list = list(map(int, rs.replace('[', '').replace(']', '').replace(' ', '').split(',')))\n",
    "    rs = result['own_purchases'].values[i]\n",
    "    bought_list = list(map(int, rs.replace('[', '').replace(']', '').replace(' ', '').split(',')))\n",
    "    pr_fin = pr_fin + precision_at_k(recommended_list, bought_list, k=5)\n",
    "pr_fin"
   ]
  },
  {
   "cell_type": "code",
   "execution_count": 26,
   "id": "6d1252f0",
   "metadata": {},
   "outputs": [
    {
     "data": {
      "text/plain": [
       "1.2"
      ]
     },
     "execution_count": 26,
     "metadata": {},
     "output_type": "execute_result"
    }
   ],
   "source": [
    "pr_fin = 0\n",
    "for i in range(2042):\n",
    "    rs = result['itemitem'].values[i]\n",
    "    recommended_list = list(map(int, rs.replace('[', '').replace(']', '').replace(' ', '').split(',')))\n",
    "    rs = result['own_purchases'].values[i]\n",
    "    bought_list = list(map(int, rs.replace('[', '').replace(']', '').replace(' ', '').split(',')))\n",
    "    pr_fin = pr_fin + precision_at_k(recommended_list, bought_list, k=5)\n",
    "pr_fin"
   ]
  },
  {
   "cell_type": "code",
   "execution_count": 27,
   "id": "fa5537cb",
   "metadata": {},
   "outputs": [
    {
     "data": {
      "text/plain": [
       "1.0"
      ]
     },
     "execution_count": 27,
     "metadata": {},
     "output_type": "execute_result"
    }
   ],
   "source": [
    "pr_fin = 0\n",
    "for i in range(2042):\n",
    "    rs = result['cosine'].values[i]\n",
    "    recommended_list = list(map(int, rs.replace('[', '').replace(']', '').replace(' ', '').split(',')))\n",
    "    rs = result['own_purchases'].values[i]\n",
    "    bought_list = list(map(int, rs.replace('[', '').replace(']', '').replace(' ', '').split(',')))\n",
    "    pr_fin = pr_fin + precision_at_k(recommended_list, bought_list, k=5)\n",
    "pr_fin"
   ]
  },
  {
   "cell_type": "code",
   "execution_count": 28,
   "id": "593226ed",
   "metadata": {},
   "outputs": [
    {
     "data": {
      "text/plain": [
       "1.0"
      ]
     },
     "execution_count": 28,
     "metadata": {},
     "output_type": "execute_result"
    }
   ],
   "source": [
    "pr_fin = 0\n",
    "for i in range(2042):\n",
    "    rs = result['tfidf'].values[i]\n",
    "    recommended_list = list(map(int, rs.replace('[', '').replace(']', '').replace(' ', '').split(',')))\n",
    "    rs = result['own_purchases'].values[i]\n",
    "    bought_list = list(map(int, rs.replace('[', '').replace(']', '').replace(' ', '').split(',')))\n",
    "    pr_fin = pr_fin + precision_at_k(recommended_list, bought_list, k=5)\n",
    "pr_fin"
   ]
  },
  {
   "cell_type": "code",
   "execution_count": null,
   "id": "db705393",
   "metadata": {},
   "outputs": [],
   "source": []
  },
  {
   "cell_type": "code",
   "execution_count": null,
   "id": "6ad0c65e",
   "metadata": {},
   "outputs": [],
   "source": []
  },
  {
   "cell_type": "code",
   "execution_count": null,
   "id": "5160cb67",
   "metadata": {},
   "outputs": [],
   "source": []
  },
  {
   "cell_type": "code",
   "execution_count": null,
   "id": "f9a90f78",
   "metadata": {},
   "outputs": [],
   "source": []
  }
 ],
 "metadata": {
  "kernelspec": {
   "display_name": "Python 3 (ipykernel)",
   "language": "python",
   "name": "python3"
  },
  "language_info": {
   "codemirror_mode": {
    "name": "ipython",
    "version": 3
   },
   "file_extension": ".py",
   "mimetype": "text/x-python",
   "name": "python",
   "nbconvert_exporter": "python",
   "pygments_lexer": "ipython3",
   "version": "3.9.15"
  }
 },
 "nbformat": 4,
 "nbformat_minor": 5
}
